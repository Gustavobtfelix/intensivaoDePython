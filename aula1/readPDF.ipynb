{
 "cells": [
  {
   "cell_type": "code",
   "execution_count": 4,
   "metadata": {},
   "outputs": [
    {
     "data": {
      "text/plain": [
       "'17/03/2022 13:52:51ALINEMDC4web - Sistema de Controle de AcessoOperador:Relatório de UsuáriosOpções selecionadas: Cod.Empresa[0000022],CracháNomeDemissãoAdmissãoCentro de Resp.SiteMatriculaPlacaEmpresaContratoSexoLiberadoNivel AtualÚltimo atualizadorUltima atualização em0003186420482600031864204826ADRINAO SOUZA MENEZESSTONE-SAcesso CompletoA:ALINE @192.168.0.15705/08/2021 16:32Horários (ini/fim/folga):Dom:Sab:Sex:Qui:Qua:Ter:Seg:0003699548384700036995483847ALEX SOUZA SILVASTONE-SAcesso CompletoA:RAFAEL@192.168.0.15728/07/2021 09:26Horários (ini/fim/folga):Dom:Sab:Sex:Qui:Qua:Ter:Seg:0003021707483900030217074839ALEXSANDER QUIRINO DE SOUZASTONE-SAcesso CompletoA:CARLOSDIRCEU@192.168.0.15727/07/2021 17:19Horários (ini/fim/folga):Dom:Sab:Sex:Qui:Qua:Ter:Seg:0004395816088300043958160883ALISSON RAFAEL SOUZA DO NASCIMENTOSTONE-SAcesso CompletoA:ALINE @192.168.0.15728/06/2021 15:32Horários (ini/fim/folga):Dom:Sab:Sex:Qui:Qua:Ter:Seg:0002283247780100022832477801ALLAN FERREIRA DE PAIVASTONE-SAcesso CompletoA:ALINE @192.168.0.15722/03/2021 15:28Horários (ini/fim/folga):Dom:Sab:Sex:Qui:Qua:Ter:Seg:0005152279487500051522794875ANA BEATRIZ DE MORAES SILVASTONESAcesso CompletoA:CARLOSDIRCEU@192.168.0.17816/09/2020 08:17Horários (ini/fim/folga):Dom:Sab:Sex:Qui:Qua:Ter:Seg:0004679145480600046791454806ANA CAROLINE DE OLIVEIRA PONTESSTONE-SAcesso CompletoA:DAMASCENO@192.168.0.15724/02/2021 08:14Horários (ini/fim/folga):Dom:Sab:Sex:Qui:Qua:Ter:Seg:0003970012686200039700126862ANDERSON FERREIRA DA SILVASTONE-SAcesso CompletoA:ALINE@192.168.0.15718/10/2021 09:52Horários (ini/fim/folga):Dom:Sab:Sex:Qui:Qua:Ter:Seg:0003966774488400039667744884ANDERSON NUNES FERREIRASTONE-SAcesso CompletoA:ALINE @192.168.0.15716/08/2021 15:35Horários (ini/fim/folga):Dom:Sab:Sex:Qui:Qua:Ter:Seg:0003538669384000035386693840ANDRE LUIZ FERREIRA DOS SANTOS14/09/2021STONE-NAcesso CompletoA:ALINE@192.168.0.15714/09/2021 11:46Horários (ini/fim/folga):Dom:Sab:Sex:Qui:Qua:Ter:Seg:0004461647080400044616470804ANDREW HENRIQUE LEITE DA SILVA14/09/2021STONE-NAcesso CompletoA:ALINE@192.168.0.15714/09/2021 11:49Horários (ini/fim/folga):Dom:Sab:Sex:Qui:Qua:Ter:Seg:0004137505181900041375051819ANGEL BARRETO NASCIMENTOSTONESAcesso CompletoA:CARLOSDIRCEU@192.168.0.15715/12/2020 07:48Horários (ini/fim/folga):Dom:Sab:Sex:Qui:Qua:Ter:Seg:0004448697487500044486974875BARBARA CRISTINA DE ALMEIDA SILVASTONE-SAcesso CompletoA:ALINE@192.168.0.15702/12/2021 12:29Horários (ini/fim/folga):Dom:Sab:Sex:Qui:Qua:Ter:Seg:0004599550787700045995507877BEATRIZ CRIPPA MARQUES14/09/2021STONE-NAcesso CompletoA:ALINE@192.168.0.15714/09/2021 11:50Horários (ini/fim/folga):Dom:Sab:Sex:Qui:Qua:Ter:Seg:0003663035484200036630354842BIANCA LIZ BARBOSA14/09/2021STONE-NAcesso CompletoA:ALINE@192.168.0.15714/09/2021 12:41Horários (ini/fim/folga):Dom:Sab:Sex:Qui:Qua:Ter:Seg:0004604026386500046040263865BRENO DE OLIVEIRA RODRIGUES14/09/2021STONE-NAcesso CompletoA:ALINE@192.168.0.15714/09/2021 12:42Horários (ini/fim/folga):Dom:Sab:Sex:Qui:Qua:Ter:Seg:0004652270780200046522707802BRENO SOUZA DE JESUSSTONESAcesso CompletoA:CARLOSDIRCEU@192.168.0.15714/01/2021 07:54Horários (ini/fim/folga):Dom:Sab:Sex:Qui:Qua:Ter:Seg:1 /10'"
      ]
     },
     "metadata": {},
     "output_type": "display_data"
    }
   ],
   "source": [
    "import PyPDF2 \n",
    "# creating an object \n",
    "arquivo = r\"C:\\Users\\gustavo.felix\\Downloads/FUNCM10.pdf\"\n",
    "# creating a pdf reader object\n",
    "ler = PyPDF2.PdfFileReader(arquivo)\n",
    "pagina = ler.getPage(0)\n",
    "conteudo = pagina.extractText()\n",
    "display(conteudo)"
   ]
  },
  {
   "cell_type": "code",
   "execution_count": null,
   "metadata": {},
   "outputs": [],
   "source": []
  }
 ],
 "metadata": {
  "interpreter": {
   "hash": "dc977da6ddfc7164c72069a80ae4aa33f145bcc5a480e32d32feda10afba3e50"
  },
  "kernelspec": {
   "display_name": "Python 3 (ipykernel)",
   "language": "python",
   "name": "python3"
  },
  "language_info": {
   "codemirror_mode": {
    "name": "ipython",
    "version": 3
   },
   "file_extension": ".py",
   "mimetype": "text/x-python",
   "name": "python",
   "nbconvert_exporter": "python",
   "pygments_lexer": "ipython3",
   "version": "3.9.7"
  }
 },
 "nbformat": 4,
 "nbformat_minor": 2
}
